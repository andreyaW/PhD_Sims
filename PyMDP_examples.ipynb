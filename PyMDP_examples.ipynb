{
 "cells": [
  {
   "cell_type": "markdown",
   "metadata": {},
   "source": [
    "example from https://github.com/minqi/PyMDP"
   ]
  },
  {
   "cell_type": "code",
   "execution_count": 1,
   "metadata": {},
   "outputs": [],
   "source": [
    "from pymdp import MDP\n",
    "\n",
    "# Build the MDP\n",
    "m = MDP()\n",
    "a1 = m.add_action('a1')\n",
    "a2 = m.add_action('a2')\n",
    "a3 = m.add_action('a3')\n",
    "m.add_transition('facebook', a1, 'facebook', -1)\n",
    "m.add_transition('facebook', a2, 'class1', 0)\n",
    "m.add_transition('class1', a1, 'facebook', -1)\n",
    "m.add_transition('class1', a2, 'class2', -2)\n",
    "m.add_transition('class2', a1, 'sleep', 0)\n",
    "m.add_transition('class2', a2, 'class3', -2)\n",
    "m.add_transition('class3', a1, 'sleep', 10)\n",
    "m.add_transition('class3', a2, 'pub', 1)\n",
    "m.add_transition('pub', a1, ['class1', 'class2', 'class3'], [0, 0, 0], [0.2, 0.4, 0.4])\n",
    "m.make_terminal('sleep')\n",
    "\n",
    "# Solve the MDP with reward discount factor set to 1.0 (no discount)\n",
    "v = m.solve(discount=1.0)"
   ]
  },
  {
   "cell_type": "markdown",
   "metadata": {},
   "source": [
    "example from https://github.com/sawcordwell/pymdptoolbox"
   ]
  },
  {
   "cell_type": "code",
   "execution_count": 2,
   "metadata": {},
   "outputs": [
    {
     "data": {
      "text/plain": [
       "(0, 0, 0)"
      ]
     },
     "execution_count": 2,
     "metadata": {},
     "output_type": "execute_result"
    }
   ],
   "source": [
    "import mdptoolbox.example\n",
    "P, R = mdptoolbox.example.forest()\n",
    "vi = mdptoolbox.mdp.ValueIteration(P, R, 0.9)\n",
    "vi.run()\n",
    "vi.policy # result is (0, 0, 0)"
   ]
  }
 ],
 "metadata": {
  "kernelspec": {
   "display_name": "Python 3",
   "language": "python",
   "name": "python3"
  },
  "language_info": {
   "codemirror_mode": {
    "name": "ipython",
    "version": 3
   },
   "file_extension": ".py",
   "mimetype": "text/x-python",
   "name": "python",
   "nbconvert_exporter": "python",
   "pygments_lexer": "ipython3",
   "version": "3.11.9"
  }
 },
 "nbformat": 4,
 "nbformat_minor": 2
}
