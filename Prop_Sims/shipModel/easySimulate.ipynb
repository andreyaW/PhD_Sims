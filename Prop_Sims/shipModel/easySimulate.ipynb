{
 "cells": [
  {
   "cell_type": "code",
   "execution_count": null,
   "metadata": {},
   "outputs": [
    {
     "ename": "NameError",
     "evalue": "name 'markovChain' is not defined",
     "output_type": "error",
     "traceback": [
      "\u001b[1;31m---------------------------------------------------------------------------\u001b[0m",
      "\u001b[1;31mNameError\u001b[0m                                 Traceback (most recent call last)",
      "Cell \u001b[1;32mIn[3], line 1\u001b[0m\n\u001b[1;32m----> 1\u001b[0m \u001b[43mmarkovChain\u001b[49m\u001b[38;5;241m.\u001b[39mpy\n\u001b[0;32m      3\u001b[0m \u001b[38;5;28;01mdef\u001b[39;00m \u001b[38;5;21msimulateChain\u001b[39m():\n\u001b[0;32m      5\u001b[0m     mC\u001b[38;5;241m=\u001b[39m markovChain()\n",
      "\u001b[1;31mNameError\u001b[0m: name 'markovChain' is not defined"
     ]
    }
   ],
   "source": [
    "from markovChain import markovChain\n",
    "def simulateChain():\n",
    "    \n",
    "    mC= markovChain()\n",
    "    mC.draw()\n",
    "\n",
    "    state = \"start\"\n",
    "    while mC.state != \"failed\":\n",
    "        print(state) \n",
    "        mC.updateState(1)\n",
    "        state = mC.state\n",
    "        \n",
    "        \n",
    "simulateChain()"
   ]
  }
 ],
 "metadata": {
  "kernelspec": {
   "display_name": "Python 3",
   "language": "python",
   "name": "python3"
  },
  "language_info": {
   "codemirror_mode": {
    "name": "ipython",
    "version": 3
   },
   "file_extension": ".py",
   "mimetype": "text/x-python",
   "name": "python",
   "nbconvert_exporter": "python",
   "pygments_lexer": "ipython3",
   "version": "3.11.4"
  }
 },
 "nbformat": 4,
 "nbformat_minor": 2
}
